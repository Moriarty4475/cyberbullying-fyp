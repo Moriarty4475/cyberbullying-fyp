{
 "cells": [
  {
   "cell_type": "code",
   "execution_count": 5,
   "metadata": {},
   "outputs": [],
   "source": [
    "from gensim.models import KeyedVectors\n",
    "\n",
    "# Load emoji2vec model\n",
    "e2v = KeyedVectors.load_word2vec_format('emoji2vec.bin', binary=True)\n",
    "\n",
    "# Example usage\n",
    "happy_vector = e2v['😂'] "
   ]
  },
  {
   "cell_type": "code",
   "execution_count": 6,
   "metadata": {},
   "outputs": [
    {
     "data": {
      "text/plain": [
       "array([ 0.00368995, -0.00747812,  0.04797658,  0.0592004 , -0.0594517 ,\n",
       "       -0.01919357,  0.06628808, -0.06752758,  0.10211562,  0.087887  ,\n",
       "       -0.02949324, -0.07718539, -0.07068242,  0.04688684, -0.07970048,\n",
       "        0.09425059,  0.06230384,  0.09221437, -0.03019106, -0.08475313,\n",
       "        0.06153254,  0.08948752,  0.07492744, -0.0697182 ,  0.02842957,\n",
       "       -0.07775956, -0.00585377, -0.01818646,  0.07633407, -0.09874155,\n",
       "       -0.05507204,  0.04539224,  0.00842756, -0.06562244, -0.04902945,\n",
       "       -0.05832005,  0.07070394,  0.05070673,  0.05466724,  0.08123799,\n",
       "        0.06764334, -0.09264724,  0.07862549, -0.03581576,  0.02264971,\n",
       "       -0.00622183, -0.0318586 ,  0.0421854 , -0.05610641,  0.07420981,\n",
       "       -0.06671992, -0.05842454,  0.03449175,  0.07620545,  0.08768762,\n",
       "        0.03041447, -0.05500258, -0.03190211,  0.07291865, -0.04514114,\n",
       "       -0.0541351 ,  0.05987531, -0.0346354 , -0.01317827,  0.00849659,\n",
       "       -0.01372368, -0.01279207, -0.01283779, -0.07702036,  0.09149366,\n",
       "        0.0390107 ,  0.07108027, -0.01238731,  0.08397982, -0.08521689,\n",
       "       -0.06615324,  0.02603729,  0.07916152,  0.08146766,  0.09780202,\n",
       "       -0.05352468,  0.03703088,  0.02943622, -0.0411319 , -0.08929481,\n",
       "       -0.00907463, -0.07406733,  0.07654026,  0.07333956,  0.03913452,\n",
       "       -0.03275327,  0.0839721 , -0.09473041, -0.02795571, -0.10102268,\n",
       "        0.03562701,  0.06465388,  0.00239606, -0.01363948, -0.04439699,\n",
       "       -0.0908874 ,  0.03828626,  0.03901853, -0.01020065, -0.00448968,\n",
       "        0.07071512,  0.04707636,  0.00378791,  0.05759984,  0.01114361,\n",
       "       -0.03391467,  0.00760981,  0.06322926, -0.0880087 ,  0.06876363,\n",
       "       -0.07912473, -0.0028417 , -0.06997126,  0.02684613, -0.07514256,\n",
       "       -0.07525261,  0.04538977, -0.01857131, -0.09254144,  0.01272622,\n",
       "       -0.06651675, -0.07780645, -0.00054866,  0.01530222, -0.06704907,\n",
       "       -0.09591693, -0.04216382, -0.05920067,  0.04180467, -0.08473751,\n",
       "       -0.0091961 , -0.01856733,  0.06411888, -0.01504513,  0.00653571,\n",
       "        0.03186707, -0.04212012,  0.07634199, -0.08881496, -0.07597502,\n",
       "        0.03467466, -0.08546355, -0.05052061,  0.0900829 , -0.08306081,\n",
       "        0.09260429,  0.08704868, -0.0360002 ,  0.02944678, -0.05743967,\n",
       "       -0.00339006, -0.06426711,  0.04361258, -0.07921562, -0.0765662 ,\n",
       "        0.01060756,  0.06268018,  0.08522304,  0.06723925,  0.07288557,\n",
       "       -0.09302333,  0.02477937,  0.01172222,  0.00479384,  0.02157678,\n",
       "        0.01548687, -0.07941901, -0.01285125, -0.01106149, -0.05682039,\n",
       "        0.01480553,  0.07593461, -0.02521644,  0.0160483 , -0.02013016,\n",
       "       -0.0006516 , -0.0474901 ,  0.079786  ,  0.08490966, -0.07243283,\n",
       "        0.03765685, -0.08713188,  0.03943245, -0.06611194, -0.03412999,\n",
       "        0.02676374, -0.07299029,  0.0697734 , -0.05803109,  0.08248405,\n",
       "        0.06971692, -0.08738452, -0.00018618, -0.07082236, -0.04650601,\n",
       "       -0.05312995,  0.0649436 , -0.05497617, -0.07783619,  0.06110686,\n",
       "       -0.05441086, -0.0623476 ,  0.04429746, -0.05169839,  0.07030815,\n",
       "       -0.04818415,  0.05482576, -0.05496503, -0.07783284, -0.08059028,\n",
       "        0.06439808, -0.00520644, -0.0330755 , -0.07652996, -0.01107413,\n",
       "       -0.00750746,  0.08184698,  0.04372175,  0.07949491, -0.00567428,\n",
       "       -0.0624898 ,  0.02245951, -0.00251985, -0.02233904, -0.06598   ,\n",
       "        0.05270914, -0.01273476, -0.08402091,  0.03170872,  0.03557813,\n",
       "       -0.00872936, -0.0292008 , -0.05209661,  0.08882122,  0.08563904,\n",
       "        0.06974573,  0.04504047, -0.06368353, -0.02415369, -0.07969051,\n",
       "        0.09035778,  0.05923794,  0.04466449,  0.00783385, -0.03746437,\n",
       "        0.00996592,  0.02965579,  0.05722547,  0.08226684,  0.01086137,\n",
       "       -0.07542461, -0.07651414, -0.00404104, -0.08048932, -0.04402169,\n",
       "       -0.07493835,  0.00871058,  0.03949443,  0.056054  ,  0.02210577,\n",
       "        0.00656221,  0.02639471,  0.0557919 ,  0.01582586, -0.00514857,\n",
       "       -0.05831469,  0.08793064,  0.08895694, -0.0292627 ,  0.07007831,\n",
       "       -0.0333305 , -0.08543444, -0.00450068, -0.06502454, -0.00331638,\n",
       "        0.06480967, -0.0196905 , -0.04076313,  0.02563368,  0.06550946,\n",
       "       -0.06623957,  0.06932179,  0.03883428, -0.02262465,  0.03270576,\n",
       "       -0.06228965,  0.01850435, -0.09290913, -0.05605437, -0.09467187,\n",
       "       -0.0215614 , -0.02299731, -0.06261437,  0.00722107, -0.04899564],\n",
       "      dtype=float32)"
      ]
     },
     "execution_count": 6,
     "metadata": {},
     "output_type": "execute_result"
    }
   ],
   "source": [
    "happy_vector"
   ]
  },
  {
   "cell_type": "code",
   "execution_count": 1,
   "metadata": {},
   "outputs": [],
   "source": [
    "import cv2\n",
    "from PIL import Image\n",
    "import pytesseract"
   ]
  },
  {
   "cell_type": "code",
   "execution_count": 47,
   "metadata": {},
   "outputs": [],
   "source": [
    "import PIL.Image"
   ]
  },
  {
   "cell_type": "code",
   "execution_count": 48,
   "metadata": {},
   "outputs": [],
   "source": [
    "def ocr_core(img):\n",
    "    text = pytesseract.image_to_string(PIL.Image.open(img))\n",
    "    return text"
   ]
  },
  {
   "cell_type": "code",
   "execution_count": 15,
   "metadata": {},
   "outputs": [],
   "source": [
    "def get_grayscale(image):\n",
    "    return cv2.cvtColor(image , cv2.COLOR_BGR2GRAY)"
   ]
  },
  {
   "cell_type": "code",
   "execution_count": 16,
   "metadata": {},
   "outputs": [],
   "source": [
    "def removal_noise(image):\n",
    "    return cv2.medianBlur(image,5)"
   ]
  },
  {
   "cell_type": "code",
   "execution_count": 17,
   "metadata": {},
   "outputs": [],
   "source": [
    "def thresholding(image):\n",
    "    return cv2.threshold(image , 0 ,255,cv2.THRESH_BINARY+cv2.THRESH_OTSU)[1]"
   ]
  },
  {
   "cell_type": "code",
   "execution_count": 24,
   "metadata": {},
   "outputs": [],
   "source": [
    "image = cv2.imread('images.jpg')"
   ]
  },
  {
   "cell_type": "code",
   "execution_count": null,
   "metadata": {},
   "outputs": [],
   "source": []
  },
  {
   "cell_type": "code",
   "execution_count": 21,
   "metadata": {},
   "outputs": [],
   "source": [
    "img = get_grayscale(image)\n",
    "img =thresholding(img)\n",
    "img = removal_noise(img)"
   ]
  },
  {
   "cell_type": "code",
   "execution_count": 46,
   "metadata": {},
   "outputs": [],
   "source": [
    "import PIL.Image"
   ]
  },
  {
   "cell_type": "code",
   "execution_count": 59,
   "metadata": {},
   "outputs": [],
   "source": [
    "image_path = 'covid_memes_10.png'\n",
    "# image = cv2.imread('covid_memes_10.png')\n",
    "\n",
    "# Perform OCR\n",
    "i =ocr_core('download.jpg')\n"
   ]
  },
  {
   "cell_type": "code",
   "execution_count": 60,
   "metadata": {},
   "outputs": [
    {
     "data": {
      "text/plain": [
       "'ferocious kiling machines on the\\n\\nlanet\\nAlso cats:\\n\\n'"
      ]
     },
     "execution_count": 60,
     "metadata": {},
     "output_type": "execute_result"
    }
   ],
   "source": [
    "i"
   ]
  },
  {
   "cell_type": "code",
   "execution_count": 26,
   "metadata": {},
   "outputs": [
    {
     "data": {
      "text/plain": [
       "''"
      ]
     },
     "execution_count": 26,
     "metadata": {},
     "output_type": "execute_result"
    }
   ],
   "source": [
    "text"
   ]
  },
  {
   "cell_type": "code",
   "execution_count": 31,
   "metadata": {},
   "outputs": [
    {
     "name": "stderr",
     "output_type": "stream",
     "text": [
      "C:\\Users\\hp\\AppData\\Roaming\\Python\\Python311\\site-packages\\tqdm\\auto.py:21: TqdmWarning: IProgress not found. Please update jupyter and ipywidgets. See https://ipywidgets.readthedocs.io/en/stable/user_install.html\n",
      "  from .autonotebook import tqdm as notebook_tqdm\n"
     ]
    }
   ],
   "source": [
    "from dotenv import load_dotenv\n",
    "import smtplib\n",
    "import random\n",
    "import string\n",
    "import re\n",
    "import datetime\n",
    "import pandas as pd\n",
    "from pathlib import Path\n",
    "import hashlib\n",
    "import google.generativeai as genai"
   ]
  },
  {
   "cell_type": "code",
   "execution_count": 32,
   "metadata": {},
   "outputs": [],
   "source": [
    "load_dotenv()\n",
    "\n",
    "safety_settings = [\n",
    "    {\n",
    "        \"category\": \"HARM_CATEGORY_DANGEROUS\",\n",
    "        \"threshold\": \"BLOCK_NONE\",\n",
    "    },\n",
    "    {\n",
    "        \"category\": \"HARM_CATEGORY_HARASSMENT\",\n",
    "        \"threshold\": \"BLOCK_NONE\",\n",
    "    },\n",
    "    {\n",
    "        \"category\": \"HARM_CATEGORY_HATE_SPEECH\",\n",
    "        \"threshold\": \"BLOCK_NONE\",\n",
    "    },\n",
    "    {\n",
    "        \"category\": \"HARM_CATEGORY_SEXUALLY_EXPLICIT\",\n",
    "        \"threshold\": \"BLOCK_NONE\",\n",
    "    },\n",
    "    {\n",
    "        \"category\": \"HARM_CATEGORY_DANGEROUS_CONTENT\",\n",
    "        \"threshold\": \"BLOCK_NONE\",\n",
    "    },\n",
    "]\n"
   ]
  },
  {
   "cell_type": "code",
   "execution_count": 35,
   "metadata": {},
   "outputs": [],
   "source": [
    "import os"
   ]
  },
  {
   "cell_type": "code",
   "execution_count": 39,
   "metadata": {},
   "outputs": [],
   "source": [
    "def extract_text_from_image(image_path: str) -> str:\n",
    "    genai.configure(api_key=os.getenv(\"GENAI_API_KEY\"))\n",
    "\n",
    "    # Set up the model with desired settings for text extraction\n",
    "    generation_config = {\n",
    "        \"temperature\": 0,  # Set temperature to 0 to ensure deterministic output\n",
    "        \"top_p\": 0,\n",
    "        \"top_k\": 0,\n",
    "        \"max_output_tokens\": 8192,\n",
    "    }\n",
    "    prompt = f\"\"\"Given the image below, extract the text from it using OCR (Optical Character Recognition).\n",
    "\n",
    "    Image: {image_path}\n",
    "\n",
    "    Response:\n",
    "    \"\"\"\n",
    "    model = genai.GenerativeModel(\n",
    "        model_name=\"gemini-1.5-pro-latest\",\n",
    "        generation_config=generation_config,\n",
    "        safety_settings=safety_settings,\n",
    "    )\n",
    "\n",
    "    # Use the model to generate text based on the prompt\n",
    "    result = model.generate_content(prompt)\n",
    "\n",
    "    return result"
   ]
  },
  {
   "cell_type": "code",
   "execution_count": 40,
   "metadata": {},
   "outputs": [
    {
     "data": {
      "text/plain": [
       "response:\n",
       "GenerateContentResponse(\n",
       "    done=True,\n",
       "    iterator=None,\n",
       "    result=glm.GenerateContentResponse({'candidates': [{'content': {'parts': [{'text': '## OCR Attempt for \"download.jpg\"\\n\\nUnfortunately, I don\\'t have access to external files or specific images, including the one you mentioned (\"download.jpg\"). Therefore, I can\\'t directly perform OCR on it. \\n\\n### Here\\'s what you can do:\\n\\n1. **Use an OCR tool:** Several online and offline OCR tools are available. Popular options include:\\n    * **Online:** FreeOCR, OnlineOCR, NewOCR\\n    * **Offline:** Tesseract (open-source), Adobe Acrobat Pro DC\\n2. **Upload your image:** Choose the tool that suits your needs and upload \"download.jpg\" to it.\\n3. **Extract text:** The tool will process the image and extract the text it recognizes. \\n4. **Review and edit:** The extracted text might require some editing for accuracy, depending on the image quality and the tool\\'s capabilities.\\n\\n**Additional Tips:**\\n\\n* **Image quality:** Ensure the image is clear and has good contrast for better OCR accuracy. \\n* **File format:** Most OCR tools support common image formats like JPEG, PNG, and TIFF.\\n* **Language selection:** Choose the appropriate language for the text in the image. \\n* **Output format:** Select the desired output format for the extracted text, such as plain text, Word document, or PDF. \\n'}], 'role': 'model'}, 'finish_reason': 1, 'index': 0, 'safety_ratings': [{'category': 9, 'probability': 1, 'blocked': False}, {'category': 8, 'probability': 1, 'blocked': False}, {'category': 7, 'probability': 1, 'blocked': False}, {'category': 10, 'probability': 1, 'blocked': False}], 'token_count': 0, 'grounding_attributions': []}]}),\n",
       ")"
      ]
     },
     "execution_count": 40,
     "metadata": {},
     "output_type": "execute_result"
    }
   ],
   "source": [
    "extract_text_from_image('download.jpg')"
   ]
  },
  {
   "cell_type": "code",
   "execution_count": 42,
   "metadata": {},
   "outputs": [],
   "source": [
    "from vertexai.preview.generative_models import GenerativeModel,Image\n",
    "import json\n",
    "import pandas as pd\n",
    "\n",
    "\n"
   ]
  },
  {
   "cell_type": "code",
   "execution_count": null,
   "metadata": {},
   "outputs": [],
   "source": [
    "def generate_text(field1,field2,field3,img):\n",
    "    multimodel_model = GenerativeModel('gemini-pro-vision')\n",
    "\n",
    "    image =Image.load_from_file(img)\n",
    "\n",
    "    response = multimodel_model.generate_content(\n",
    "        [image,\n",
    "         EXT]\n",
    "    )"
   ]
  }
 ],
 "metadata": {
  "kernelspec": {
   "display_name": "Python 3",
   "language": "python",
   "name": "python3"
  },
  "language_info": {
   "codemirror_mode": {
    "name": "ipython",
    "version": 3
   },
   "file_extension": ".py",
   "mimetype": "text/x-python",
   "name": "python",
   "nbconvert_exporter": "python",
   "pygments_lexer": "ipython3",
   "version": "3.11.8"
  }
 },
 "nbformat": 4,
 "nbformat_minor": 2
}
