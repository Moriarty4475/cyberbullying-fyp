{
 "cells": [
  {
   "cell_type": "code",
   "execution_count": 1,
   "metadata": {
    "execution": {
     "iopub.execute_input": "2024-04-24T04:36:20.746958Z",
     "iopub.status.busy": "2024-04-24T04:36:20.746527Z",
     "iopub.status.idle": "2024-04-24T04:36:21.961404Z",
     "shell.execute_reply": "2024-04-24T04:36:21.960364Z",
     "shell.execute_reply.started": "2024-04-24T04:36:20.746923Z"
    }
   },
   "outputs": [],
   "source": [
    "import numpy as np\n",
    "import pandas as pd\n",
    "import re\n",
    "from nltk.corpus import stopwords\n",
    "from nltk.tokenize import word_tokenize\n",
    "from nltk.stem import WordNetLemmatizer\n",
    "from nltk import pos_tag\n",
    "from wordcloud import WordCloud\n",
    "import string\n"
   ]
  },
  {
   "cell_type": "code",
   "execution_count": 2,
   "metadata": {
    "execution": {
     "iopub.execute_input": "2024-04-24T04:36:21.963964Z",
     "iopub.status.busy": "2024-04-24T04:36:21.963448Z",
     "iopub.status.idle": "2024-04-24T04:36:25.834769Z",
     "shell.execute_reply": "2024-04-24T04:36:25.833866Z",
     "shell.execute_reply.started": "2024-04-24T04:36:21.963929Z"
    }
   },
   "outputs": [],
   "source": [
    "import os\n",
    "import random\n",
    "import torch\n",
    "from torch import nn\n",
    "from torch.utils.data import DataLoader, Dataset\n",
    "from torch.optim import AdamW\n",
    "from transformers import RobertaTokenizer, RobertaModel, get_linear_schedule_with_warmup\n",
    "from sklearn.model_selection import train_test_split\n",
    "from sklearn.preprocessing import LabelEncoder\n",
    "from sklearn.metrics import accuracy_score, classification_report, confusion_matrix\n",
    "from typing import Union, List\n",
    "import pandas as pd\n",
    "import matplotlib.pyplot as plt\n",
    "import seaborn as sns"
   ]
  },
  {
   "cell_type": "code",
   "execution_count": 3,
   "metadata": {
    "execution": {
     "iopub.execute_input": "2024-04-24T04:36:25.836334Z",
     "iopub.status.busy": "2024-04-24T04:36:25.835892Z",
     "iopub.status.idle": "2024-04-24T04:36:25.840476Z",
     "shell.execute_reply": "2024-04-24T04:36:25.839549Z",
     "shell.execute_reply.started": "2024-04-24T04:36:25.836292Z"
    }
   },
   "outputs": [],
   "source": [
    "# !pip install nltk -U"
   ]
  },
  {
   "cell_type": "code",
   "execution_count": 4,
   "metadata": {
    "execution": {
     "iopub.execute_input": "2024-04-24T04:36:25.844121Z",
     "iopub.status.busy": "2024-04-24T04:36:25.843481Z",
     "iopub.status.idle": "2024-04-24T04:36:26.014414Z",
     "shell.execute_reply": "2024-04-24T04:36:26.013542Z",
     "shell.execute_reply.started": "2024-04-24T04:36:25.844083Z"
    }
   },
   "outputs": [
    {
     "name": "stderr",
     "output_type": "stream",
     "text": [
      "[nltk_data] Downloading package punkt to\n",
      "[nltk_data]     C:\\Users\\CV\\AppData\\Roaming\\nltk_data...\n",
      "[nltk_data]   Package punkt is already up-to-date!\n",
      "[nltk_data] Downloading package averaged_perceptron_tagger to\n",
      "[nltk_data]     C:\\Users\\CV\\AppData\\Roaming\\nltk_data...\n",
      "[nltk_data]   Package averaged_perceptron_tagger is already up-to-\n",
      "[nltk_data]       date!\n",
      "[nltk_data] Downloading package wordnet to\n",
      "[nltk_data]     C:\\Users\\CV\\AppData\\Roaming\\nltk_data...\n",
      "[nltk_data]   Package wordnet is already up-to-date!\n",
      "[nltk_data] Downloading package stopwords to\n",
      "[nltk_data]     C:\\Users\\CV\\AppData\\Roaming\\nltk_data...\n",
      "[nltk_data]   Package stopwords is already up-to-date!\n"
     ]
    },
    {
     "data": {
      "text/plain": [
       "True"
      ]
     },
     "execution_count": 4,
     "metadata": {},
     "output_type": "execute_result"
    }
   ],
   "source": [
    "import nltk\n",
    "nltk.download('punkt')\n",
    "nltk.download('averaged_perceptron_tagger')\n",
    "nltk.download('wordnet')\n",
    "nltk.download('stopwords')"
   ]
  },
  {
   "cell_type": "code",
   "execution_count": 5,
   "metadata": {
    "execution": {
     "iopub.execute_input": "2024-04-24T04:36:26.015970Z",
     "iopub.status.busy": "2024-04-24T04:36:26.015679Z",
     "iopub.status.idle": "2024-04-24T04:36:26.022441Z",
     "shell.execute_reply": "2024-04-24T04:36:26.021530Z",
     "shell.execute_reply.started": "2024-04-24T04:36:26.015945Z"
    }
   },
   "outputs": [
    {
     "name": "stderr",
     "output_type": "stream",
     "text": [
      "[nltk_data] Downloading package wordnet to\n",
      "[nltk_data]     C:\\Users\\CV\\AppData\\Roaming\\nltk_data...\n",
      "[nltk_data]   Package wordnet is already up-to-date!\n"
     ]
    },
    {
     "data": {
      "text/plain": [
       "True"
      ]
     },
     "execution_count": 5,
     "metadata": {},
     "output_type": "execute_result"
    }
   ],
   "source": [
    "nltk.download('wordnet')"
   ]
  },
  {
   "cell_type": "code",
   "execution_count": 6,
   "metadata": {
    "execution": {
     "iopub.execute_input": "2024-04-24T04:36:26.024047Z",
     "iopub.status.busy": "2024-04-24T04:36:26.023709Z",
     "iopub.status.idle": "2024-04-24T04:36:26.179177Z",
     "shell.execute_reply": "2024-04-24T04:36:26.178058Z",
     "shell.execute_reply.started": "2024-04-24T04:36:26.024006Z"
    }
   },
   "outputs": [],
   "source": [
    "tweet_data = pd.read_csv('cyberbullying_tweets.csv')"
   ]
  },
  {
   "cell_type": "code",
   "execution_count": 7,
   "metadata": {
    "execution": {
     "iopub.execute_input": "2024-04-24T04:36:26.180928Z",
     "iopub.status.busy": "2024-04-24T04:36:26.180594Z",
     "iopub.status.idle": "2024-04-24T04:36:26.192533Z",
     "shell.execute_reply": "2024-04-24T04:36:26.191378Z",
     "shell.execute_reply.started": "2024-04-24T04:36:26.180899Z"
    }
   },
   "outputs": [
    {
     "data": {
      "text/html": [
       "<div>\n",
       "<style scoped>\n",
       "    .dataframe tbody tr th:only-of-type {\n",
       "        vertical-align: middle;\n",
       "    }\n",
       "\n",
       "    .dataframe tbody tr th {\n",
       "        vertical-align: top;\n",
       "    }\n",
       "\n",
       "    .dataframe thead th {\n",
       "        text-align: right;\n",
       "    }\n",
       "</style>\n",
       "<table border=\"1\" class=\"dataframe\">\n",
       "  <thead>\n",
       "    <tr style=\"text-align: right;\">\n",
       "      <th></th>\n",
       "      <th>tweet_text</th>\n",
       "      <th>cyberbullying_type</th>\n",
       "    </tr>\n",
       "  </thead>\n",
       "  <tbody>\n",
       "    <tr>\n",
       "      <th>0</th>\n",
       "      <td>In other words #katandandre, your food was cra...</td>\n",
       "      <td>not_cyberbullying</td>\n",
       "    </tr>\n",
       "    <tr>\n",
       "      <th>1</th>\n",
       "      <td>Why is #aussietv so white? #MKR #theblock #ImA...</td>\n",
       "      <td>not_cyberbullying</td>\n",
       "    </tr>\n",
       "    <tr>\n",
       "      <th>2</th>\n",
       "      <td>@XochitlSuckkks a classy whore? Or more red ve...</td>\n",
       "      <td>not_cyberbullying</td>\n",
       "    </tr>\n",
       "    <tr>\n",
       "      <th>3</th>\n",
       "      <td>@Jason_Gio meh. :P  thanks for the heads up, b...</td>\n",
       "      <td>not_cyberbullying</td>\n",
       "    </tr>\n",
       "    <tr>\n",
       "      <th>4</th>\n",
       "      <td>@RudhoeEnglish This is an ISIS account pretend...</td>\n",
       "      <td>not_cyberbullying</td>\n",
       "    </tr>\n",
       "  </tbody>\n",
       "</table>\n",
       "</div>"
      ],
      "text/plain": [
       "                                          tweet_text cyberbullying_type\n",
       "0  In other words #katandandre, your food was cra...  not_cyberbullying\n",
       "1  Why is #aussietv so white? #MKR #theblock #ImA...  not_cyberbullying\n",
       "2  @XochitlSuckkks a classy whore? Or more red ve...  not_cyberbullying\n",
       "3  @Jason_Gio meh. :P  thanks for the heads up, b...  not_cyberbullying\n",
       "4  @RudhoeEnglish This is an ISIS account pretend...  not_cyberbullying"
      ]
     },
     "execution_count": 7,
     "metadata": {},
     "output_type": "execute_result"
    }
   ],
   "source": [
    "tweet_data.head()"
   ]
  },
  {
   "cell_type": "code",
   "execution_count": 8,
   "metadata": {
    "execution": {
     "iopub.execute_input": "2024-04-24T04:36:26.194524Z",
     "iopub.status.busy": "2024-04-24T04:36:26.193872Z",
     "iopub.status.idle": "2024-04-24T04:36:26.209981Z",
     "shell.execute_reply": "2024-04-24T04:36:26.209059Z",
     "shell.execute_reply.started": "2024-04-24T04:36:26.194488Z"
    }
   },
   "outputs": [
    {
     "data": {
      "text/plain": [
       "cyberbullying_type\n",
       "religion               7998\n",
       "age                    7992\n",
       "gender                 7973\n",
       "ethnicity              7961\n",
       "not_cyberbullying      7945\n",
       "other_cyberbullying    7823\n",
       "Name: count, dtype: int64"
      ]
     },
     "execution_count": 8,
     "metadata": {},
     "output_type": "execute_result"
    }
   ],
   "source": [
    "tweet_data['cyberbullying_type'].value_counts()"
   ]
  },
  {
   "cell_type": "code",
   "execution_count": 9,
   "metadata": {
    "execution": {
     "iopub.execute_input": "2024-04-24T04:36:26.211391Z",
     "iopub.status.busy": "2024-04-24T04:36:26.211092Z",
     "iopub.status.idle": "2024-04-24T04:36:26.219132Z",
     "shell.execute_reply": "2024-04-24T04:36:26.218306Z",
     "shell.execute_reply.started": "2024-04-24T04:36:26.211367Z"
    }
   },
   "outputs": [],
   "source": [
    "def extract_emojis(text):\n",
    "    emojis = re.findall(r'[\\U0001F600-\\U0001F64F\\U0001F300-\\U0001F5FF\\U0001F680-\\U0001F6FF\\U0001F1E0-\\U0001F1FF]', text)\n",
    "    return emojis"
   ]
  },
  {
   "cell_type": "code",
   "execution_count": 10,
   "metadata": {
    "execution": {
     "iopub.execute_input": "2024-04-24T04:36:26.223402Z",
     "iopub.status.busy": "2024-04-24T04:36:26.223024Z",
     "iopub.status.idle": "2024-04-24T04:36:26.711833Z",
     "shell.execute_reply": "2024-04-24T04:36:26.711015Z",
     "shell.execute_reply.started": "2024-04-24T04:36:26.223378Z"
    }
   },
   "outputs": [],
   "source": [
    "tweet_data['emojis'] = tweet_data['tweet_text'].apply(extract_emojis)"
   ]
  },
  {
   "cell_type": "code",
   "execution_count": 11,
   "metadata": {
    "execution": {
     "iopub.execute_input": "2024-04-24T04:36:26.713246Z",
     "iopub.status.busy": "2024-04-24T04:36:26.712940Z",
     "iopub.status.idle": "2024-04-24T04:36:26.719488Z",
     "shell.execute_reply": "2024-04-24T04:36:26.718500Z",
     "shell.execute_reply.started": "2024-04-24T04:36:26.713218Z"
    }
   },
   "outputs": [
    {
     "data": {
      "text/plain": [
       "['😘']"
      ]
     },
     "execution_count": 11,
     "metadata": {},
     "output_type": "execute_result"
    }
   ],
   "source": [
    "tweet_data['emojis'][21]"
   ]
  },
  {
   "cell_type": "code",
   "execution_count": 12,
   "metadata": {
    "execution": {
     "iopub.execute_input": "2024-04-24T04:36:26.721046Z",
     "iopub.status.busy": "2024-04-24T04:36:26.720716Z",
     "iopub.status.idle": "2024-04-24T04:36:26.733857Z",
     "shell.execute_reply": "2024-04-24T04:36:26.733003Z",
     "shell.execute_reply.started": "2024-04-24T04:36:26.721016Z"
    }
   },
   "outputs": [],
   "source": [
    "def preprocess_text(text):\n",
    "    # Remove URLs\n",
    "    text = re.sub(r'http\\S+', '', text)\n",
    "    # Remove special characters, numbers, and punctuations (except for hashtags and @mentions)\n",
    "    text = re.sub(\"[^a-zA-Z#@]\", \" \", text)\n",
    "    # Convert to lowercase\n",
    "    text = text.lower()\n",
    "    # Tokenize text\n",
    "    words = word_tokenize(text)\n",
    "\n",
    "    # Remove stopwords\n",
    "    stop_words = set(stopwords.words('english'))\n",
    "    words = [word for word in words if word not in stop_words]\n",
    "    exclude =string.punctuation\n",
    "    words = [word for word in words if word not in exclude]\n",
    "\n",
    "    # Lemmatize words based on POS tags\n",
    "    lemmatizer = WordNetLemmatizer()\n",
    "    tagged_words = pos_tag(words)\n",
    "    lemmatized_words = []\n",
    "    for word, tag in tagged_words:\n",
    "        if tag.startswith('NN'):  # Noun\n",
    "            pos = 'n'\n",
    "        elif tag.startswith('VB'):  # Verb\n",
    "            pos = 'v'\n",
    "        elif tag.startswith('JJ'):  # Adjective\n",
    "            pos = 'a'\n",
    "        else:\n",
    "            pos = 'n'  # Default to noun\n",
    "        lemmatized_words.append(lemmatizer.lemmatize(word, pos))\n",
    "    text = ' '.join(lemmatized_words)\n",
    "    return text\n",
    "\n"
   ]
  },
  {
   "cell_type": "code",
   "execution_count": 13,
   "metadata": {
    "execution": {
     "iopub.execute_input": "2024-04-24T04:36:26.735788Z",
     "iopub.status.busy": "2024-04-24T04:36:26.735188Z",
     "iopub.status.idle": "2024-04-24T04:36:26.753350Z",
     "shell.execute_reply": "2024-04-24T04:36:26.752562Z",
     "shell.execute_reply.started": "2024-04-24T04:36:26.735753Z"
    }
   },
   "outputs": [],
   "source": [
    "# !pip install --upgrade nltk\n"
   ]
  },
  {
   "cell_type": "code",
   "execution_count": 14,
   "metadata": {
    "execution": {
     "iopub.execute_input": "2024-04-24T04:36:26.755048Z",
     "iopub.status.busy": "2024-04-24T04:36:26.754758Z",
     "iopub.status.idle": "2024-04-24T04:36:26.768635Z",
     "shell.execute_reply": "2024-04-24T04:36:26.767639Z",
     "shell.execute_reply.started": "2024-04-24T04:36:26.755022Z"
    }
   },
   "outputs": [
    {
     "name": "stderr",
     "output_type": "stream",
     "text": [
      "[nltk_data] Downloading package wordnet to\n",
      "[nltk_data]     C:\\Users\\CV\\AppData\\Roaming\\nltk_data...\n",
      "[nltk_data]   Package wordnet is already up-to-date!\n"
     ]
    },
    {
     "data": {
      "text/plain": [
       "True"
      ]
     },
     "execution_count": 14,
     "metadata": {},
     "output_type": "execute_result"
    }
   ],
   "source": [
    "nltk.download('wordnet')"
   ]
  },
  {
   "cell_type": "code",
   "execution_count": null,
   "metadata": {
    "execution": {
     "iopub.execute_input": "2024-04-24T04:36:26.770316Z",
     "iopub.status.busy": "2024-04-24T04:36:26.769904Z",
     "iopub.status.idle": "2024-04-24T04:37:58.664145Z",
     "shell.execute_reply": "2024-04-24T04:37:58.663027Z",
     "shell.execute_reply.started": "2024-04-24T04:36:26.770283Z"
    }
   },
   "outputs": [],
   "source": [
    "tweet_data['clean_text']= tweet_data['tweet_text'].apply(preprocess_text)"
   ]
  },
  {
   "cell_type": "code",
   "execution_count": null,
   "metadata": {
    "execution": {
     "iopub.execute_input": "2024-04-24T04:37:58.665949Z",
     "iopub.status.busy": "2024-04-24T04:37:58.665559Z",
     "iopub.status.idle": "2024-04-24T04:37:58.684579Z",
     "shell.execute_reply": "2024-04-24T04:37:58.683549Z",
     "shell.execute_reply.started": "2024-04-24T04:37:58.665910Z"
    }
   },
   "outputs": [],
   "source": [
    "tweet_data"
   ]
  },
  {
   "cell_type": "code",
   "execution_count": null,
   "metadata": {
    "execution": {
     "iopub.execute_input": "2024-04-24T04:37:58.686437Z",
     "iopub.status.busy": "2024-04-24T04:37:58.686082Z",
     "iopub.status.idle": "2024-04-24T04:37:58.696137Z",
     "shell.execute_reply": "2024-04-24T04:37:58.695414Z",
     "shell.execute_reply.started": "2024-04-24T04:37:58.686409Z"
    }
   },
   "outputs": [],
   "source": [
    "# import emoji"
   ]
  },
  {
   "cell_type": "code",
   "execution_count": null,
   "metadata": {
    "execution": {
     "iopub.execute_input": "2024-04-24T04:37:58.697443Z",
     "iopub.status.busy": "2024-04-24T04:37:58.697130Z",
     "iopub.status.idle": "2024-04-24T04:37:58.711484Z",
     "shell.execute_reply": "2024-04-24T04:37:58.710687Z",
     "shell.execute_reply.started": "2024-04-24T04:37:58.697416Z"
    }
   },
   "outputs": [],
   "source": [
    "# !pip install demoji"
   ]
  },
  {
   "cell_type": "code",
   "execution_count": null,
   "metadata": {
    "execution": {
     "iopub.execute_input": "2024-04-24T04:37:58.713052Z",
     "iopub.status.busy": "2024-04-24T04:37:58.712747Z",
     "iopub.status.idle": "2024-04-24T04:37:58.726778Z",
     "shell.execute_reply": "2024-04-24T04:37:58.725843Z",
     "shell.execute_reply.started": "2024-04-24T04:37:58.713027Z"
    }
   },
   "outputs": [],
   "source": [
    "import demoji\n",
    "\n",
    "demoji.download_codes()\n"
   ]
  },
  {
   "cell_type": "code",
   "execution_count": null,
   "metadata": {
    "execution": {
     "iopub.execute_input": "2024-04-24T04:37:58.728341Z",
     "iopub.status.busy": "2024-04-24T04:37:58.727973Z",
     "iopub.status.idle": "2024-04-24T04:37:58.860812Z",
     "shell.execute_reply": "2024-04-24T04:37:58.859816Z",
     "shell.execute_reply.started": "2024-04-24T04:37:58.728287Z"
    }
   },
   "outputs": [],
   "source": [
    "tweet_data['emojis_description'] = tweet_data['emojis'].apply(lambda x: ' '.join(demoji.findall(' '.join(x)).values()) if x else '')\n",
    "\n",
    "print(tweet_data['emojis_description'])"
   ]
  },
  {
   "cell_type": "code",
   "execution_count": null,
   "metadata": {
    "execution": {
     "iopub.execute_input": "2024-04-24T04:37:58.862568Z",
     "iopub.status.busy": "2024-04-24T04:37:58.862108Z",
     "iopub.status.idle": "2024-04-24T04:38:12.898710Z",
     "shell.execute_reply": "2024-04-24T04:38:12.897852Z",
     "shell.execute_reply.started": "2024-04-24T04:37:58.862532Z"
    }
   },
   "outputs": [],
   "source": [
    "tweet_data['emojis_description']= tweet_data['emojis_description'].apply(preprocess_text)"
   ]
  },
  {
   "cell_type": "code",
   "execution_count": null,
   "metadata": {
    "execution": {
     "iopub.execute_input": "2024-04-24T04:38:12.900079Z",
     "iopub.status.busy": "2024-04-24T04:38:12.899771Z",
     "iopub.status.idle": "2024-04-24T04:38:12.915059Z",
     "shell.execute_reply": "2024-04-24T04:38:12.914068Z",
     "shell.execute_reply.started": "2024-04-24T04:38:12.900052Z"
    }
   },
   "outputs": [],
   "source": [
    "tweet_data['combined_text'] = tweet_data['clean_text'] + ' ' + tweet_data['emojis_description']"
   ]
  },
  {
   "cell_type": "code",
   "execution_count": null,
   "metadata": {},
   "outputs": [],
   "source": []
  },
  {
   "cell_type": "code",
   "execution_count": null,
   "metadata": {
    "execution": {
     "iopub.execute_input": "2024-04-24T04:38:12.916734Z",
     "iopub.status.busy": "2024-04-24T04:38:12.916342Z",
     "iopub.status.idle": "2024-04-24T04:38:12.929020Z",
     "shell.execute_reply": "2024-04-24T04:38:12.928003Z",
     "shell.execute_reply.started": "2024-04-24T04:38:12.916704Z"
    }
   },
   "outputs": [],
   "source": [
    "tweet_data['combined_text'][21]"
   ]
  },
  {
   "cell_type": "code",
   "execution_count": null,
   "metadata": {
    "execution": {
     "iopub.execute_input": "2024-04-24T04:38:12.930600Z",
     "iopub.status.busy": "2024-04-24T04:38:12.930232Z",
     "iopub.status.idle": "2024-04-24T04:38:12.939551Z",
     "shell.execute_reply": "2024-04-24T04:38:12.938676Z",
     "shell.execute_reply.started": "2024-04-24T04:38:12.930569Z"
    }
   },
   "outputs": [],
   "source": [
    "from transformers import RobertaTokenizer, RobertaModel, get_linear_schedule_with_warmup\n",
    "\n",
    "import torch\n"
   ]
  },
  {
   "cell_type": "code",
   "execution_count": null,
   "metadata": {
    "execution": {
     "iopub.execute_input": "2024-04-24T04:38:12.941042Z",
     "iopub.status.busy": "2024-04-24T04:38:12.940731Z",
     "iopub.status.idle": "2024-04-24T04:38:48.214789Z",
     "shell.execute_reply": "2024-04-24T04:38:48.213689Z",
     "shell.execute_reply.started": "2024-04-24T04:38:12.941015Z"
    }
   },
   "outputs": [],
   "source": [
    "text_label_0 = ' '.join(tweet_data[tweet_data['cyberbullying_type'] == 'religion']['tweet_text'].values)\n",
    "\n",
    "text_label_1 = ' '.join(tweet_data[tweet_data['cyberbullying_type'] == 'age']['tweet_text'].values)\n",
    "\n",
    "text_label_2 = ' '.join(tweet_data[tweet_data['cyberbullying_type'] == 'gender']['tweet_text'].values)\n",
    "\n",
    "text_label_3 = ' '.join(tweet_data[tweet_data['cyberbullying_type'] == 'ethnicity']['tweet_text'].values)\n",
    "\n",
    "text_label_4 = ' '.join(tweet_data[tweet_data['cyberbullying_type'] == 'not_cyberbullying']['tweet_text'].values)\n",
    "\n",
    "text_label_5 = ' '.join(tweet_data[tweet_data['cyberbullying_type'] == 'other_cyberbullying']['tweet_text'].values)\n",
    "\n",
    "# Generate word cloud for label 0\n",
    "wordcloud_label_0 = WordCloud(width=800, height=800, max_words=1000, background_color='white').generate(text_label_0)\n",
    "plt.figure(figsize=(8, 8), facecolor=None)\n",
    "plt.imshow(wordcloud_label_0)\n",
    "plt.axis(\"off\")\n",
    "plt.title('Word Cloud for Religion')\n",
    "plt.tight_layout(pad=0)\n",
    "plt.show()\n",
    "\n",
    "wordcloud_label_1 = WordCloud(width=800, height=800, max_words=1000, background_color='white').generate(text_label_1)\n",
    "plt.figure(figsize=(8, 8), facecolor=None)\n",
    "plt.imshow(wordcloud_label_1)\n",
    "plt.axis(\"off\")\n",
    "plt.title('Word Cloud for Age')\n",
    "plt.tight_layout(pad=0)\n",
    "plt.show()\n",
    "\n",
    "\n",
    "wordcloud_label_2 = WordCloud(width=800, height=800, max_words=1000, background_color='white').generate(text_label_2)\n",
    "plt.figure(figsize=(8, 8), facecolor=None)\n",
    "plt.imshow(wordcloud_label_2)\n",
    "plt.axis(\"off\")\n",
    "plt.title('Word Cloud for Gender')\n",
    "plt.tight_layout(pad=0)\n",
    "plt.show()\n",
    "\n",
    "\n",
    "wordcloud_label_3 = WordCloud(width=800, height=800, max_words=1000, background_color='white').generate(text_label_3)\n",
    "plt.figure(figsize=(8, 8), facecolor=None)\n",
    "plt.imshow(wordcloud_label_3)\n",
    "plt.axis(\"off\")\n",
    "plt.title('Word Cloud for Ethnicity')\n",
    "plt.tight_layout(pad=0)\n",
    "plt.show()\n",
    "\n",
    "\n",
    "wordcloud_label_4 = WordCloud(width=800, height=800, max_words=1000, background_color='white').generate(text_label_4)\n",
    "plt.figure(figsize=(8, 8), facecolor=None)\n",
    "plt.imshow(wordcloud_label_4)\n",
    "plt.axis(\"off\")\n",
    "plt.title('Word Cloud for Not Cyberbullying')\n",
    "plt.tight_layout(pad=0)\n",
    "plt.show()\n",
    "\n",
    "\n",
    "wordcloud_label_5 = WordCloud(width=800, height=800, max_words=1000, background_color='white').generate(text_label_5)\n",
    "plt.figure(figsize=(8, 8), facecolor=None)\n",
    "plt.imshow(wordcloud_label_5)\n",
    "plt.axis(\"off\")\n",
    "plt.title('Word Cloud for Other_cyberbullying')\n",
    "plt.tight_layout(pad=0)\n",
    "plt.show()"
   ]
  },
  {
   "cell_type": "code",
   "execution_count": null,
   "metadata": {
    "execution": {
     "iopub.execute_input": "2024-04-24T04:38:48.216736Z",
     "iopub.status.busy": "2024-04-24T04:38:48.216337Z",
     "iopub.status.idle": "2024-04-24T04:38:48.235957Z",
     "shell.execute_reply": "2024-04-24T04:38:48.235000Z",
     "shell.execute_reply.started": "2024-04-24T04:38:48.216700Z"
    }
   },
   "outputs": [],
   "source": [
    "print(f'There are around {int(tweet_data[\"combined_text\"].duplicated().sum())} duplicated tweets, we will remove them.')"
   ]
  },
  {
   "cell_type": "code",
   "execution_count": null,
   "metadata": {
    "execution": {
     "iopub.execute_input": "2024-04-24T04:38:48.237787Z",
     "iopub.status.busy": "2024-04-24T04:38:48.237411Z",
     "iopub.status.idle": "2024-04-24T04:38:48.267148Z",
     "shell.execute_reply": "2024-04-24T04:38:48.266279Z",
     "shell.execute_reply.started": "2024-04-24T04:38:48.237754Z"
    }
   },
   "outputs": [],
   "source": [
    "tweet_data.drop_duplicates(\"combined_text\", inplace=True)"
   ]
  },
  {
   "cell_type": "code",
   "execution_count": null,
   "metadata": {
    "execution": {
     "iopub.execute_input": "2024-04-24T04:38:48.275549Z",
     "iopub.status.busy": "2024-04-24T04:38:48.275171Z",
     "iopub.status.idle": "2024-04-24T04:38:48.288808Z",
     "shell.execute_reply": "2024-04-24T04:38:48.287840Z",
     "shell.execute_reply.started": "2024-04-24T04:38:48.275524Z"
    }
   },
   "outputs": [],
   "source": [
    "tweet_data['cyberbullying_type'].value_counts()"
   ]
  },
  {
   "cell_type": "code",
   "execution_count": null,
   "metadata": {
    "execution": {
     "iopub.execute_input": "2024-04-24T04:38:48.290243Z",
     "iopub.status.busy": "2024-04-24T04:38:48.289966Z",
     "iopub.status.idle": "2024-04-24T04:38:48.406686Z",
     "shell.execute_reply": "2024-04-24T04:38:48.405775Z",
     "shell.execute_reply.started": "2024-04-24T04:38:48.290219Z"
    }
   },
   "outputs": [],
   "source": [
    "tweet_data['text_len'] = [len(text.split()) for text in tweet_data.tweet_text]"
   ]
  },
  {
   "cell_type": "code",
   "execution_count": null,
   "metadata": {
    "execution": {
     "iopub.execute_input": "2024-04-24T04:38:48.408166Z",
     "iopub.status.busy": "2024-04-24T04:38:48.407818Z",
     "iopub.status.idle": "2024-04-24T04:38:48.441834Z",
     "shell.execute_reply": "2024-04-24T04:38:48.440884Z",
     "shell.execute_reply.started": "2024-04-24T04:38:48.408138Z"
    }
   },
   "outputs": [],
   "source": [
    "tweet_data.sort_values(by=['text_len'], ascending=False)"
   ]
  },
  {
   "cell_type": "code",
   "execution_count": null,
   "metadata": {
    "execution": {
     "iopub.execute_input": "2024-04-24T04:38:48.443557Z",
     "iopub.status.busy": "2024-04-24T04:38:48.443168Z",
     "iopub.status.idle": "2024-04-24T04:38:49.624792Z",
     "shell.execute_reply": "2024-04-24T04:38:49.623829Z",
     "shell.execute_reply.started": "2024-04-24T04:38:48.443514Z"
    }
   },
   "outputs": [],
   "source": [
    "plt.figure(figsize=(20,5))\n",
    "ax = sns.countplot(x='text_len', data=tweet_data[tweet_data['text_len']<=1000], palette='Blues_r')\n",
    "plt.title('Count of tweets vs length ', fontsize=20)\n",
    "plt.yticks([])\n",
    "ax.bar_label(ax.containers[0])\n",
    "plt.ylabel('count')\n",
    "plt.xlabel('')\n",
    "plt.show()"
   ]
  },
  {
   "cell_type": "code",
   "execution_count": null,
   "metadata": {
    "execution": {
     "iopub.execute_input": "2024-04-24T04:38:49.626451Z",
     "iopub.status.busy": "2024-04-24T04:38:49.626125Z",
     "iopub.status.idle": "2024-04-24T04:38:49.642220Z",
     "shell.execute_reply": "2024-04-24T04:38:49.641261Z",
     "shell.execute_reply.started": "2024-04-24T04:38:49.626423Z"
    }
   },
   "outputs": [],
   "source": [
    "tweet_data = tweet_data[tweet_data['text_len'] < tweet_data['text_len'].quantile(0.995)]"
   ]
  },
  {
   "cell_type": "code",
   "execution_count": null,
   "metadata": {
    "execution": {
     "iopub.execute_input": "2024-04-24T04:38:49.643789Z",
     "iopub.status.busy": "2024-04-24T04:38:49.643476Z",
     "iopub.status.idle": "2024-04-24T04:38:49.650544Z",
     "shell.execute_reply": "2024-04-24T04:38:49.649603Z",
     "shell.execute_reply.started": "2024-04-24T04:38:49.643764Z"
    }
   },
   "outputs": [],
   "source": [
    "max_len = np.max(tweet_data['text_len'])\n",
    "max_len "
   ]
  },
  {
   "cell_type": "code",
   "execution_count": null,
   "metadata": {
    "execution": {
     "iopub.execute_input": "2024-04-24T04:38:49.652266Z",
     "iopub.status.busy": "2024-04-24T04:38:49.651962Z",
     "iopub.status.idle": "2024-04-24T04:38:49.661231Z",
     "shell.execute_reply": "2024-04-24T04:38:49.660504Z",
     "shell.execute_reply.started": "2024-04-24T04:38:49.652239Z"
    }
   },
   "outputs": [],
   "source": [
    "MAX_LEN =100"
   ]
  },
  {
   "cell_type": "code",
   "execution_count": null,
   "metadata": {
    "execution": {
     "iopub.execute_input": "2024-04-24T04:38:49.663196Z",
     "iopub.status.busy": "2024-04-24T04:38:49.662452Z",
     "iopub.status.idle": "2024-04-24T04:38:52.122053Z",
     "shell.execute_reply": "2024-04-24T04:38:52.120948Z",
     "shell.execute_reply.started": "2024-04-24T04:38:49.663159Z"
    }
   },
   "outputs": [],
   "source": [
    "from keras.preprocessing.sequence import pad_sequences"
   ]
  },
  {
   "cell_type": "code",
   "execution_count": null,
   "metadata": {
    "execution": {
     "iopub.execute_input": "2024-04-24T04:38:52.123826Z",
     "iopub.status.busy": "2024-04-24T04:38:52.123430Z",
     "iopub.status.idle": "2024-04-24T04:38:52.144110Z",
     "shell.execute_reply": "2024-04-24T04:38:52.142895Z",
     "shell.execute_reply.started": "2024-04-24T04:38:52.123784Z"
    }
   },
   "outputs": [],
   "source": [
    "label_encoder = LabelEncoder()\n",
    "tweet_data['cyberbullying_type_label'] = label_encoder.fit_transform(tweet_data['cyberbullying_type'])\n",
    "print(dict(zip(label_encoder.classes_, label_encoder.transform(label_encoder.classes_))))\n"
   ]
  },
  {
   "cell_type": "code",
   "execution_count": null,
   "metadata": {
    "execution": {
     "iopub.execute_input": "2024-04-24T04:38:52.145636Z",
     "iopub.status.busy": "2024-04-24T04:38:52.145361Z",
     "iopub.status.idle": "2024-04-24T04:38:52.165123Z",
     "shell.execute_reply": "2024-04-24T04:38:52.164366Z",
     "shell.execute_reply.started": "2024-04-24T04:38:52.145610Z"
    }
   },
   "outputs": [],
   "source": [
    "X = tweet_data['combined_text'].values\n",
    "y = tweet_data['cyberbullying_type_label'].values"
   ]
  },
  {
   "cell_type": "code",
   "execution_count": null,
   "metadata": {
    "execution": {
     "iopub.execute_input": "2024-04-24T04:38:52.166768Z",
     "iopub.status.busy": "2024-04-24T04:38:52.166381Z",
     "iopub.status.idle": "2024-04-24T04:38:52.177610Z",
     "shell.execute_reply": "2024-04-24T04:38:52.176869Z",
     "shell.execute_reply.started": "2024-04-24T04:38:52.166731Z"
    }
   },
   "outputs": [],
   "source": [
    "class TextClassificationDataset(Dataset):\n",
    "\n",
    "    def __init__(self, texts, labels, tokenizer, max_length):\n",
    "        self.texts = texts\n",
    "        self.labels = labels\n",
    "        self.tokenizer = tokenizer\n",
    "        self.max_length = max_length\n",
    "\n",
    "    def __len__(self):\n",
    "        return len(self.texts)\n",
    "\n",
    "    def __getitem__(self, idx):\n",
    "        text = self.texts[idx]\n",
    "        label = self.labels[idx]\n",
    "        encoding = self.tokenizer(text, return_tensors='pt', max_length=self.max_length, padding='max_length', truncation=True)\n",
    "        return {\n",
    "            'input_ids': encoding['input_ids'].flatten(),\n",
    "            'attention_mask': encoding['attention_mask'].flatten(),\n",
    "            'label': torch.tensor(label)\n",
    "        }"
   ]
  },
  {
   "cell_type": "code",
   "execution_count": null,
   "metadata": {
    "execution": {
     "iopub.execute_input": "2024-04-24T04:38:52.178848Z",
     "iopub.status.busy": "2024-04-24T04:38:52.178588Z",
     "iopub.status.idle": "2024-04-24T04:38:52.193942Z",
     "shell.execute_reply": "2024-04-24T04:38:52.193156Z",
     "shell.execute_reply.started": "2024-04-24T04:38:52.178824Z"
    }
   },
   "outputs": [],
   "source": [
    "class RoBERTaClassifier(nn.Module):\n",
    "    def __init__(self, bert_model_name, num_classes):\n",
    "        super(RoBERTaClassifier, self).__init__()\n",
    "        self.bert = RobertaModel.from_pretrained(bert_model_name)\n",
    "        self.dropout = nn.Dropout(0.1)\n",
    "        self.fc = nn.Linear(self.bert.config.hidden_size, num_classes)\n",
    "\n",
    "    def forward(self, input_ids, attention_mask):\n",
    "        outputs = self.bert(input_ids, attention_mask=attention_mask)\n",
    "        pooled_output = outputs.pooler_output\n",
    "        x = self.dropout(pooled_output)\n",
    "        logits = self.fc(x)\n",
    "        return logits"
   ]
  },
  {
   "cell_type": "code",
   "execution_count": null,
   "metadata": {
    "execution": {
     "iopub.execute_input": "2024-04-24T04:38:52.195268Z",
     "iopub.status.busy": "2024-04-24T04:38:52.195004Z",
     "iopub.status.idle": "2024-04-24T04:38:52.205528Z",
     "shell.execute_reply": "2024-04-24T04:38:52.204608Z",
     "shell.execute_reply.started": "2024-04-24T04:38:52.195245Z"
    }
   },
   "outputs": [],
   "source": [
    "from tqdm import tqdm\n",
    "\n",
    "def train(model, data_loader, optimizer, scheduler, device):\n",
    "    model.train()\n",
    "    total_labels = labels.long()\n",
    "        labels = labels.long()\n",
    "        loss = 0\n",
    "    with tqdm(total=len(data_loader), desc=\"Training\") as progress_bar:\n",
    "        for batch in data_loader:\n",
    "            optimizer.zero_grad()\n",
    "            input_ids = batch['input_ids'].to(device)\n",
    "            attention_mask = batch['attention_mask'].to(device)\n",
    "            labels = batch['label'].to(device)\n",
    "            outputs = model(input_ids=input_ids, attention_mask=attention_mask)\n",
    "            labels = labels.long()\n",
    "        labels = labels.long()\n",
    "        loss = nn.CrossEntropyLoss()(outputs, labels)\n",
    "            loss.backward()\n",
    "            optimizer.step()\n",
    "            scheduler.step()\n",
    "            total_loss += loss.item()\n",
    "            progress_bar.update(1)\n",
    "    return total_loss / len(data_loader)"
   ]
  },
  {
   "cell_type": "code",
   "execution_count": null,
   "metadata": {
    "execution": {
     "iopub.execute_input": "2024-04-24T04:38:52.206968Z",
     "iopub.status.busy": "2024-04-24T04:38:52.206680Z",
     "iopub.status.idle": "2024-04-24T04:38:52.222058Z",
     "shell.execute_reply": "2024-04-24T04:38:52.221134Z",
     "shell.execute_reply.started": "2024-04-24T04:38:52.206944Z"
    }
   },
   "outputs": [],
   "source": [
    "def evaluate(model, data_loader, device):\n",
    "    model.eval()\n",
    "    predictions = list()\n",
    "    actual = list()\n",
    "    with torch.no_grad():\n",
    "        for batch in data_loader:\n",
    "            input_ids = batch['input_ids'].to(device)\n",
    "            attention_mask = batch['attention_mask'].to(device)\n",
    "            labels = batch['label'].to(device)\n",
    "            outputs = model(input_ids=input_ids, attention_mask=attention_mask)\n",
    "            _, preds = torch.max(outputs, dim=1)\n",
    "            predictions.extend(preds.cpu().tolist())\n",
    "            actual.extend(labels.cpu().tolist())\n",
    "    return accuracy_score(y_true=actual, y_pred=predictions), classification_report(y_true=actual, y_pred=predictions)"
   ]
  },
  {
   "cell_type": "code",
   "execution_count": null,
   "metadata": {
    "execution": {
     "iopub.execute_input": "2024-04-24T04:38:52.223273Z",
     "iopub.status.busy": "2024-04-24T04:38:52.223042Z",
     "iopub.status.idle": "2024-04-24T04:38:52.234871Z",
     "shell.execute_reply": "2024-04-24T04:38:52.234046Z",
     "shell.execute_reply.started": "2024-04-24T04:38:52.223252Z"
    }
   },
   "outputs": [],
   "source": [
    "def predict_class(text, model, tokenizer,classes, max_length=128):\n",
    "    model.eval()\n",
    "    encoding = tokenizer(text, return_tensors='pt', max_length=max_length, padding='max_length', truncation=True)\n",
    "    input_ids = encoding['input_ids']\n",
    "    attention_mask = encoding['attention_mask']\n",
    "\n",
    "    with torch.no_grad():\n",
    "        outputs = model(input_ids=input_ids, attention_mask=attention_mask)\n",
    "        _, preds = torch.max(outputs, dim=1)\n",
    "\n",
    "    return classes[preds.item()]"
   ]
  },
  {
   "cell_type": "code",
   "execution_count": null,
   "metadata": {
    "execution": {
     "iopub.execute_input": "2024-04-24T04:38:52.236302Z",
     "iopub.status.busy": "2024-04-24T04:38:52.236014Z",
     "iopub.status.idle": "2024-04-24T04:38:52.245285Z",
     "shell.execute_reply": "2024-04-24T04:38:52.244659Z",
     "shell.execute_reply.started": "2024-04-24T04:38:52.236279Z"
    }
   },
   "outputs": [],
   "source": [
    "bert_model_name = 'roberta-base'\n",
    "num_classes = 6\n",
    "max_length = 128\n",
    "batch_size = 32\n",
    "num_epochs = 5\n",
    "learning_rate = 2e-5"
   ]
  },
  {
   "cell_type": "code",
   "execution_count": null,
   "metadata": {
    "execution": {
     "iopub.execute_input": "2024-04-24T04:38:52.246851Z",
     "iopub.status.busy": "2024-04-24T04:38:52.246569Z",
     "iopub.status.idle": "2024-04-24T04:38:52.276560Z",
     "shell.execute_reply": "2024-04-24T04:38:52.275534Z",
     "shell.execute_reply.started": "2024-04-24T04:38:52.246826Z"
    }
   },
   "outputs": [],
   "source": [
    "train_texts, val_texts, train_labels, val_labels = train_test_split(X, y, test_size=0.2, random_state=42)\n",
    "len(train_texts), len(val_texts), len(train_labels), len(val_labels)"
   ]
  },
  {
   "cell_type": "code",
   "execution_count": null,
   "metadata": {
    "execution": {
     "iopub.execute_input": "2024-04-24T04:38:52.278080Z",
     "iopub.status.busy": "2024-04-24T04:38:52.277638Z",
     "iopub.status.idle": "2024-04-24T04:38:53.046786Z",
     "shell.execute_reply": "2024-04-24T04:38:53.045755Z",
     "shell.execute_reply.started": "2024-04-24T04:38:52.278055Z"
    }
   },
   "outputs": [],
   "source": [
    "tokenizer = RobertaTokenizer.from_pretrained(bert_model_name)\n",
    "\n",
    "train_dataset = TextClassificationDataset(train_texts, train_labels, tokenizer=tokenizer, max_length=max_length)\n",
    "val_dataset = TextClassificationDataset(val_texts, val_labels, tokenizer=tokenizer, max_length=max_length)\n",
    "\n",
    "train_dataloader = DataLoader(train_dataset, batch_size=batch_size, shuffle=True)\n",
    "val_dataloader = DataLoader(val_dataset, batch_size=batch_size)"
   ]
  },
  {
   "cell_type": "code",
   "execution_count": null,
   "metadata": {
    "execution": {
     "iopub.execute_input": "2024-04-24T04:38:53.048539Z",
     "iopub.status.busy": "2024-04-24T04:38:53.048087Z",
     "iopub.status.idle": "2024-04-24T04:38:56.861169Z",
     "shell.execute_reply": "2024-04-24T04:38:56.860358Z",
     "shell.execute_reply.started": "2024-04-24T04:38:53.048503Z"
    }
   },
   "outputs": [],
   "source": [
    "device = torch.device(\"cuda\" if torch.cuda.is_available() else \"cpu\")\n",
    "model = RoBERTaClassifier(bert_model_name, num_classes).to(device)"
   ]
  },
  {
   "cell_type": "code",
   "execution_count": null,
   "metadata": {
    "execution": {
     "iopub.execute_input": "2024-04-24T04:38:56.863087Z",
     "iopub.status.busy": "2024-04-24T04:38:56.862439Z",
     "iopub.status.idle": "2024-04-24T04:38:56.869785Z",
     "shell.execute_reply": "2024-04-24T04:38:56.868879Z",
     "shell.execute_reply.started": "2024-04-24T04:38:56.863051Z"
    }
   },
   "outputs": [],
   "source": [
    "optimizer = AdamW(model.parameters(), lr=learning_rate)\n",
    "total_steps = len(train_dataloader) * num_epochs\n",
    "scheduler = get_linear_schedule_with_warmup(optimizer, num_warmup_steps=0, num_training_steps=total_steps)"
   ]
  },
  {
   "cell_type": "code",
   "execution_count": 46,
   "metadata": {},
   "outputs": [
    {
     "name": "stdout",
     "output_type": "stream",
     "text": [
      "Epoch 1/5\n"
     ]
    },
    {
     "name": "stderr",
     "output_type": "stream",
     "text": [
      "Training:   0%|                                                                                                                                                                       | 0/1126 [00:01<?, ?it/s]\n"
     ]
    },
    {
     "ename": "RuntimeError",
     "evalue": "\"nll_loss_forward_reduce_cuda_kernel_2d_index\" not implemented for 'Int'",
     "output_type": "error",
     "traceback": [
      "\u001b[1;31m---------------------------------------------------------------------------\u001b[0m",
      "\u001b[1;31mRuntimeError\u001b[0m                              Traceback (most recent call last)",
      "Cell \u001b[1;32mIn[46], line 3\u001b[0m\n\u001b[0;32m      1\u001b[0m \u001b[38;5;28;01mfor\u001b[39;00m epoch \u001b[38;5;129;01min\u001b[39;00m \u001b[38;5;28mrange\u001b[39m(num_epochs):\n\u001b[0;32m      2\u001b[0m     \u001b[38;5;28mprint\u001b[39m(\u001b[38;5;124mf\u001b[39m\u001b[38;5;124m\"\u001b[39m\u001b[38;5;124mEpoch \u001b[39m\u001b[38;5;132;01m{\u001b[39;00mepoch\u001b[38;5;241m+\u001b[39m\u001b[38;5;241m1\u001b[39m\u001b[38;5;132;01m}\u001b[39;00m\u001b[38;5;124m/\u001b[39m\u001b[38;5;132;01m{\u001b[39;00mnum_epochs\u001b[38;5;132;01m}\u001b[39;00m\u001b[38;5;124m\"\u001b[39m)\n\u001b[1;32m----> 3\u001b[0m     train(model, train_dataloader, optimizer, scheduler, device)\n\u001b[0;32m      4\u001b[0m     accuracy, report \u001b[38;5;241m=\u001b[39m evaluate(model, val_dataloader, device)\n\u001b[0;32m      5\u001b[0m     \u001b[38;5;28mprint\u001b[39m(\u001b[38;5;124mf\u001b[39m\u001b[38;5;124m\"\u001b[39m\u001b[38;5;124mValidation Accuracy: \u001b[39m\u001b[38;5;132;01m{\u001b[39;00maccuracy\u001b[38;5;132;01m:\u001b[39;00m\u001b[38;5;124m.4f\u001b[39m\u001b[38;5;132;01m}\u001b[39;00m\u001b[38;5;124m\"\u001b[39m)\n",
      "Cell \u001b[1;32mIn[34], line 13\u001b[0m, in \u001b[0;36mtrain\u001b[1;34m(model, data_loader, optimizer, scheduler, device)\u001b[0m\n\u001b[0;32m     11\u001b[0m labels \u001b[38;5;241m=\u001b[39m batch[\u001b[38;5;124m'\u001b[39m\u001b[38;5;124mlabel\u001b[39m\u001b[38;5;124m'\u001b[39m]\u001b[38;5;241m.\u001b[39mto(device)\n\u001b[0;32m     12\u001b[0m outputs \u001b[38;5;241m=\u001b[39m model(input_ids\u001b[38;5;241m=\u001b[39minput_ids, attention_mask\u001b[38;5;241m=\u001b[39mattention_mask)\n\u001b[1;32m---> 13\u001b[0m loss \u001b[38;5;241m=\u001b[39m nn\u001b[38;5;241m.\u001b[39mCrossEntropyLoss()(outputs, labels)\n\u001b[0;32m     14\u001b[0m loss\u001b[38;5;241m.\u001b[39mbackward()\n\u001b[0;32m     15\u001b[0m optimizer\u001b[38;5;241m.\u001b[39mstep()\n",
      "File \u001b[1;32m~\\anaconda3\\Lib\\site-packages\\torch\\nn\\modules\\module.py:1511\u001b[0m, in \u001b[0;36mModule._wrapped_call_impl\u001b[1;34m(self, *args, **kwargs)\u001b[0m\n\u001b[0;32m   1509\u001b[0m     \u001b[38;5;28;01mreturn\u001b[39;00m \u001b[38;5;28mself\u001b[39m\u001b[38;5;241m.\u001b[39m_compiled_call_impl(\u001b[38;5;241m*\u001b[39margs, \u001b[38;5;241m*\u001b[39m\u001b[38;5;241m*\u001b[39mkwargs)  \u001b[38;5;66;03m# type: ignore[misc]\u001b[39;00m\n\u001b[0;32m   1510\u001b[0m \u001b[38;5;28;01melse\u001b[39;00m:\n\u001b[1;32m-> 1511\u001b[0m     \u001b[38;5;28;01mreturn\u001b[39;00m \u001b[38;5;28mself\u001b[39m\u001b[38;5;241m.\u001b[39m_call_impl(\u001b[38;5;241m*\u001b[39margs, \u001b[38;5;241m*\u001b[39m\u001b[38;5;241m*\u001b[39mkwargs)\n",
      "File \u001b[1;32m~\\anaconda3\\Lib\\site-packages\\torch\\nn\\modules\\module.py:1520\u001b[0m, in \u001b[0;36mModule._call_impl\u001b[1;34m(self, *args, **kwargs)\u001b[0m\n\u001b[0;32m   1515\u001b[0m \u001b[38;5;66;03m# If we don't have any hooks, we want to skip the rest of the logic in\u001b[39;00m\n\u001b[0;32m   1516\u001b[0m \u001b[38;5;66;03m# this function, and just call forward.\u001b[39;00m\n\u001b[0;32m   1517\u001b[0m \u001b[38;5;28;01mif\u001b[39;00m \u001b[38;5;129;01mnot\u001b[39;00m (\u001b[38;5;28mself\u001b[39m\u001b[38;5;241m.\u001b[39m_backward_hooks \u001b[38;5;129;01mor\u001b[39;00m \u001b[38;5;28mself\u001b[39m\u001b[38;5;241m.\u001b[39m_backward_pre_hooks \u001b[38;5;129;01mor\u001b[39;00m \u001b[38;5;28mself\u001b[39m\u001b[38;5;241m.\u001b[39m_forward_hooks \u001b[38;5;129;01mor\u001b[39;00m \u001b[38;5;28mself\u001b[39m\u001b[38;5;241m.\u001b[39m_forward_pre_hooks\n\u001b[0;32m   1518\u001b[0m         \u001b[38;5;129;01mor\u001b[39;00m _global_backward_pre_hooks \u001b[38;5;129;01mor\u001b[39;00m _global_backward_hooks\n\u001b[0;32m   1519\u001b[0m         \u001b[38;5;129;01mor\u001b[39;00m _global_forward_hooks \u001b[38;5;129;01mor\u001b[39;00m _global_forward_pre_hooks):\n\u001b[1;32m-> 1520\u001b[0m     \u001b[38;5;28;01mreturn\u001b[39;00m forward_call(\u001b[38;5;241m*\u001b[39margs, \u001b[38;5;241m*\u001b[39m\u001b[38;5;241m*\u001b[39mkwargs)\n\u001b[0;32m   1522\u001b[0m \u001b[38;5;28;01mtry\u001b[39;00m:\n\u001b[0;32m   1523\u001b[0m     result \u001b[38;5;241m=\u001b[39m \u001b[38;5;28;01mNone\u001b[39;00m\n",
      "File \u001b[1;32m~\\anaconda3\\Lib\\site-packages\\torch\\nn\\modules\\loss.py:1179\u001b[0m, in \u001b[0;36mCrossEntropyLoss.forward\u001b[1;34m(self, input, target)\u001b[0m\n\u001b[0;32m   1178\u001b[0m \u001b[38;5;28;01mdef\u001b[39;00m \u001b[38;5;21mforward\u001b[39m(\u001b[38;5;28mself\u001b[39m, \u001b[38;5;28minput\u001b[39m: Tensor, target: Tensor) \u001b[38;5;241m-\u001b[39m\u001b[38;5;241m>\u001b[39m Tensor:\n\u001b[1;32m-> 1179\u001b[0m     \u001b[38;5;28;01mreturn\u001b[39;00m F\u001b[38;5;241m.\u001b[39mcross_entropy(\u001b[38;5;28minput\u001b[39m, target, weight\u001b[38;5;241m=\u001b[39m\u001b[38;5;28mself\u001b[39m\u001b[38;5;241m.\u001b[39mweight,\n\u001b[0;32m   1180\u001b[0m                            ignore_index\u001b[38;5;241m=\u001b[39m\u001b[38;5;28mself\u001b[39m\u001b[38;5;241m.\u001b[39mignore_index, reduction\u001b[38;5;241m=\u001b[39m\u001b[38;5;28mself\u001b[39m\u001b[38;5;241m.\u001b[39mreduction,\n\u001b[0;32m   1181\u001b[0m                            label_smoothing\u001b[38;5;241m=\u001b[39m\u001b[38;5;28mself\u001b[39m\u001b[38;5;241m.\u001b[39mlabel_smoothing)\n",
      "File \u001b[1;32m~\\anaconda3\\Lib\\site-packages\\torch\\nn\\functional.py:3059\u001b[0m, in \u001b[0;36mcross_entropy\u001b[1;34m(input, target, weight, size_average, ignore_index, reduce, reduction, label_smoothing)\u001b[0m\n\u001b[0;32m   3057\u001b[0m \u001b[38;5;28;01mif\u001b[39;00m size_average \u001b[38;5;129;01mis\u001b[39;00m \u001b[38;5;129;01mnot\u001b[39;00m \u001b[38;5;28;01mNone\u001b[39;00m \u001b[38;5;129;01mor\u001b[39;00m reduce \u001b[38;5;129;01mis\u001b[39;00m \u001b[38;5;129;01mnot\u001b[39;00m \u001b[38;5;28;01mNone\u001b[39;00m:\n\u001b[0;32m   3058\u001b[0m     reduction \u001b[38;5;241m=\u001b[39m _Reduction\u001b[38;5;241m.\u001b[39mlegacy_get_string(size_average, reduce)\n\u001b[1;32m-> 3059\u001b[0m \u001b[38;5;28;01mreturn\u001b[39;00m torch\u001b[38;5;241m.\u001b[39m_C\u001b[38;5;241m.\u001b[39m_nn\u001b[38;5;241m.\u001b[39mcross_entropy_loss(\u001b[38;5;28minput\u001b[39m, target, weight, _Reduction\u001b[38;5;241m.\u001b[39mget_enum(reduction), ignore_index, label_smoothing)\n",
      "\u001b[1;31mRuntimeError\u001b[0m: \"nll_loss_forward_reduce_cuda_kernel_2d_index\" not implemented for 'Int'"
     ]
    }
   ],
   "source": [
    "for epoch in range(num_epochs):\n",
    "    print(f\"Epoch {epoch+1}/{num_epochs}\")\n",
    "    train(model, train_dataloader, optimizer, scheduler, device)\n",
    "    accuracy, report = evaluate(model, val_dataloader, device)\n",
    "    print(f\"Validation Accuracy: {accuracy:.4f}\")\n",
    "    print(report)"
   ]
  },
  {
   "cell_type": "code",
   "execution_count": null,
   "metadata": {
    "execution": {
     "iopub.execute_input": "2024-04-24T05:06:41.198699Z",
     "iopub.status.busy": "2024-04-24T05:06:41.198261Z",
     "iopub.status.idle": "2024-04-24T05:06:41.207014Z",
     "shell.execute_reply": "2024-04-24T05:06:41.206053Z",
     "shell.execute_reply.started": "2024-04-24T05:06:41.198665Z"
    }
   },
   "outputs": [],
   "source": [
    "def evaluate2(model, data_loader, device):\n",
    "    model.eval()\n",
    "    total_labels = labels.long()\n",
    "        labels = labels.long()\n",
    "        loss = 0\n",
    "    correct = 0\n",
    "    total = 0\n",
    "    with torch.no_grad():\n",
    "        for batch in data_loader:\n",
    "            input_ids = batch['input_ids'].to(device)\n",
    "            attention_mask = batch['attention_mask'].to(device)\n",
    "            labels = batch['label'].to(device)\n",
    "            outputs = model(input_ids=input_ids, attention_mask=attention_mask)\n",
    "            labels = labels.long()\n",
    "        labels = labels.long()\n",
    "        loss = nn.CrossEntropyLoss()(outputs, labels)\n",
    "            total_loss += loss.item()\n",
    "            _, predicted = torch.max(outputs, 1)\n",
    "            total += labels.size(0)\n",
    "            correct += (predicted == labels).sum().item()\n",
    "    accuracy = correct / total\n",
    "    return total_loss / len(data_loader), accuracy\n"
   ]
  },
  {
   "cell_type": "code",
   "execution_count": null,
   "metadata": {
    "execution": {
     "iopub.execute_input": "2024-04-24T05:06:47.440627Z",
     "iopub.status.busy": "2024-04-24T05:06:47.439990Z",
     "iopub.status.idle": "2024-04-24T05:06:47.453401Z",
     "shell.execute_reply": "2024-04-24T05:06:47.452457Z",
     "shell.execute_reply.started": "2024-04-24T05:06:47.440593Z"
    }
   },
   "outputs": [],
   "source": [
    "def train(model, train_loader, val_loader, optimizer, scheduler, device, num_epochs):\n",
    "    train_losses = []\n",
    "    val_losses = []\n",
    "    train_accuracies = []\n",
    "    val_accuracies = []\n",
    "\n",
    "    for epoch in range(num_epochs):\n",
    "        model.train()\n",
    "        total_labels = labels.long()\n",
    "        labels = labels.long()\n",
    "        loss = 0\n",
    "        correct_train = 0\n",
    "        total_train = 0\n",
    "        for batch in tqdm(train_loader, desc=f\"Epoch {epoch+1}/{num_epochs}\"):\n",
    "            optimizer.zero_grad()\n",
    "            input_ids = batch['input_ids'].to(device)\n",
    "            attention_mask = batch['attention_mask'].to(device)\n",
    "            labels = batch['label'].to(device)\n",
    "            outputs = model(input_ids=input_ids, attention_mask=attention_mask)\n",
    "            labels = labels.long()\n",
    "        labels = labels.long()\n",
    "        loss = nn.CrossEntropyLoss()(outputs, labels)\n",
    "            loss.backward()\n",
    "            optimizer.step()\n",
    "            scheduler.step()\n",
    "            total_loss += loss.item()\n",
    "            _, predicted = torch.max(outputs, 1)\n",
    "            total_train += labels.size(0)\n",
    "            correct_train += (predicted == labels).sum().item()\n",
    "        \n",
    "        train_labels = labels.long()\n",
    "        labels = labels.long()\n",
    "        loss = total_loss / len(train_loader)\n",
    "        train_losses.append(train_loss)\n",
    "        train_accuracy = correct_train / total_train\n",
    "        train_accuracies.append(train_accuracy)\n",
    "\n",
    "        val_loss, val_accuracy = evaluate2(model, val_loader, device)\n",
    "        val_losses.append(val_loss)\n",
    "        val_accuracies.append(val_accuracy)\n",
    "\n",
    "        print(f\"Epoch {epoch+1}/{num_epochs}, Train Loss: {train_loss:.4f}, Val Loss: {val_loss:.4f}, Train Acc: {train_accuracy:.4f}, Val Acc: {val_accuracy:.4f}\")\n",
    "\n",
    "    # Plotting\n",
    "    plt.figure(figsize=(12, 6))\n",
    "    plt.subplot(1, 2, 1)\n",
    "    plt.plot(train_losses, label='Train Loss')\n",
    "    plt.plot(val_losses, label='Val Loss')\n",
    "    plt.xlabel('Epoch')\n",
    "    plt.ylabel('Loss')\n",
    "    plt.legend()\n",
    "    plt.title('Loss vs Epoch')\n",
    "\n",
    "    plt.subplot(1, 2, 2)\n",
    "    plt.plot(train_accuracies, label='Train Accuracy')\n",
    "    plt.plot(val_accuracies, label='Val Accuracy')\n",
    "    plt.xlabel('Epoch')\n",
    "    plt.ylabel('Accuracy')\n",
    "    plt.legend()\n",
    "    plt.title('Accuracy vs Epoch')\n",
    "\n",
    "    plt.tight_layout()\n",
    "    plt.show()"
   ]
  },
  {
   "cell_type": "code",
   "execution_count": null,
   "metadata": {
    "execution": {
     "iopub.execute_input": "2024-04-24T05:07:18.390576Z",
     "iopub.status.busy": "2024-04-24T05:07:18.389670Z",
     "iopub.status.idle": "2024-04-24T06:10:28.191999Z",
     "shell.execute_reply": "2024-04-24T06:10:28.190964Z",
     "shell.execute_reply.started": "2024-04-24T05:07:18.390539Z"
    }
   },
   "outputs": [],
   "source": [
    "train(model, train_dataloader, val_dataloader, optimizer, scheduler, device, 5)"
   ]
  },
  {
   "cell_type": "code",
   "execution_count": null,
   "metadata": {},
   "outputs": [],
   "source": []
  },
  {
   "cell_type": "code",
   "execution_count": 56,
   "metadata": {
    "execution": {
     "iopub.execute_input": "2024-04-24T06:13:57.425821Z",
     "iopub.status.busy": "2024-04-24T06:13:57.425084Z",
     "iopub.status.idle": "2024-04-24T06:13:57.430594Z",
     "shell.execute_reply": "2024-04-24T06:13:57.429378Z",
     "shell.execute_reply.started": "2024-04-24T06:13:57.425786Z"
    }
   },
   "outputs": [],
   "source": [
    "import seaborn as sns"
   ]
  },
  {
   "cell_type": "code",
   "execution_count": 57,
   "metadata": {
    "execution": {
     "iopub.execute_input": "2024-04-24T06:14:00.157636Z",
     "iopub.status.busy": "2024-04-24T06:14:00.157254Z",
     "iopub.status.idle": "2024-04-24T06:15:03.879071Z",
     "shell.execute_reply": "2024-04-24T06:15:03.877967Z",
     "shell.execute_reply.started": "2024-04-24T06:14:00.157608Z"
    }
   },
   "outputs": [
    {
     "name": "stdout",
     "output_type": "stream",
     "text": [
      "Final Classification Report:\n",
      "               precision    recall  f1-score   support\n",
      "\n",
      "           0       0.99      0.98      0.98      1569\n",
      "           1       0.99      0.99      0.99      1554\n",
      "           2       0.89      0.90      0.90      1469\n",
      "           3       0.72      0.67      0.69      1635\n",
      "           4       0.63      0.68      0.65      1171\n",
      "           5       0.96      0.97      0.97      1606\n",
      "\n",
      "    accuracy                           0.87      9004\n",
      "   macro avg       0.86      0.86      0.86      9004\n",
      "weighted avg       0.87      0.87      0.87      9004\n",
      "\n"
     ]
    },
    {
     "data": {
      "image/png": "[encoded data removed]",
      "text/plain": [
       "<Figure size 1000x800 with 2 Axes>"
      ]
     },
     "metadata": {},
     "output_type": "display_data"
    }
   ],
   "source": [
    "def evaluate1(model, data_loader, device):\n",
    "    model.eval()\n",
    "    predictions = list()\n",
    "    actual = list()\n",
    "    with torch.no_grad():\n",
    "        for batch in data_loader:\n",
    "            input_ids = batch['input_ids'].to(device)\n",
    "            attention_mask = batch['attention_mask'].to(device)\n",
    "            labels = batch['label'].to(device)\n",
    "            outputs = model(input_ids=input_ids, attention_mask=attention_mask)\n",
    "            _, preds = torch.max(outputs, dim=1)\n",
    "            predictions.extend(preds.cpu().tolist())\n",
    "            actual.extend(labels.cpu().tolist())\n",
    "\n",
    "    accuracy = accuracy_score(y_true=actual, y_pred=predictions)\n",
    "    classification_rep = classification_report(y_true=actual, y_pred=predictions)\n",
    "    confusion_mat = confusion_matrix(y_true=actual, y_pred=predictions)\n",
    "\n",
    "    # Create a pandas DataFrame for the confusion matrix\n",
    "    cm_df = pd.DataFrame(confusion_mat, index=range(confusion_mat.shape[0]), columns=range(confusion_mat.shape[1]))\n",
    "\n",
    "    return accuracy, classification_rep, cm_df\n",
    "\n",
    "# Usage\n",
    "accuracy, classification_rep, confusion_mat_df = evaluate1(model, val_dataloader, device)\n",
    "\n",
    "# Print final classification report\n",
    "print(\"Final Classification Report:\\n\", classification_rep)\n",
    "\n",
    "# Plot confusion matrix using Seaborn\n",
    "plt.figure(figsize=(10, 8))\n",
    "sns.heatmap(confusion_mat_df, annot=True, cmap='Blues')\n",
    "plt.xlabel('Predicted labels')\n",
    "plt.ylabel('Actual labels')\n",
    "plt.title('Confusion Matrix')\n",
    "plt.show()"
   ]
  },
  {
   "cell_type": "code",
   "execution_count": 58,
   "metadata": {
    "execution": {
     "iopub.execute_input": "2024-04-24T06:15:03.881274Z",
     "iopub.status.busy": "2024-04-24T06:15:03.880935Z",
     "iopub.status.idle": "2024-04-24T06:19:15.206985Z",
     "shell.execute_reply": "2024-04-24T06:19:15.205847Z",
     "shell.execute_reply.started": "2024-04-24T06:15:03.881244Z"
    }
   },
   "outputs": [
    {
     "name": "stdout",
     "output_type": "stream",
     "text": [
      "Train Data Classification Report:\n",
      "               precision    recall  f1-score   support\n",
      "\n",
      "           0       1.00      0.99      0.99      6155\n",
      "           1       1.00      1.00      1.00      6242\n",
      "           2       0.99      0.99      0.99      6202\n",
      "           3       0.97      0.95      0.96      6188\n",
      "           4       0.94      0.97      0.95      4912\n",
      "           5       0.99      1.00      1.00      6315\n",
      "\n",
      "    accuracy                           0.98     36014\n",
      "   macro avg       0.98      0.98      0.98     36014\n",
      "weighted avg       0.98      0.98      0.98     36014\n",
      "\n"
     ]
    },
    {
     "data": {
      "image/png": "[encoded data removed]",
      "text/plain": [
       "<Figure size 1000x800 with 2 Axes>"
      ]
     },
     "metadata": {},
     "output_type": "display_data"
    }
   ],
   "source": [
    "\n",
    "# Usage\n",
    "accuracy, classification_rep, confusion_mat_df = evaluate1(model, train_dataloader, device)\n",
    "\n",
    "# Print final classification report\n",
    "print(\"Train Data Classification Report:\\n\", classification_rep)\n",
    "\n",
    "# Plot confusion matrix using Seaborn\n",
    "plt.figure(figsize=(10, 8))\n",
    "sns.heatmap(confusion_mat_df, annot=True, cmap='Blues')\n",
    "plt.xlabel('Predicted labels')\n",
    "plt.ylabel('Actual labels')\n",
    "plt.title('Confusion Matrix')\n",
    "plt.show()"
   ]
  },
  {
   "cell_type": "code",
   "execution_count": null,
   "metadata": {
    "execution": {
     "iopub.status.busy": "2024-04-24T05:04:16.546661Z",
     "iopub.status.idle": "2024-04-24T05:04:16.547055Z",
     "shell.execute_reply": "2024-04-24T05:04:16.546875Z",
     "shell.execute_reply.started": "2024-04-24T05:04:16.546859Z"
    }
   },
   "outputs": [],
   "source": [
    "torch.save(model.state_dict(), 'roberta_model.pth')\n",
    "\n",
    "# Load the model\n",
    "loaded_model = RoBERTaClassifier(bert_model_name='roberta-base', num_classes=6)\n",
    "loaded_model.load_state_dict(torch.load('roberta_model.pth'))\n",
    "loaded_model.eval()"
   ]
  },
  {
   "cell_type": "code",
   "execution_count": null,
   "metadata": {
    "execution": {
     "iopub.status.busy": "2024-04-24T05:04:16.549159Z",
     "iopub.status.idle": "2024-04-24T05:04:16.549539Z",
     "shell.execute_reply": "2024-04-24T05:04:16.549378Z",
     "shell.execute_reply.started": "2024-04-24T05:04:16.549362Z"
    }
   },
   "outputs": [],
   "source": [
    "load_tokenizer = RobertaTokenizer.from_pretrained(\"'roberta-base'\")"
   ]
  },
  {
   "cell_type": "code",
   "execution_count": null,
   "metadata": {
    "execution": {
     "iopub.status.busy": "2024-04-24T05:04:16.551535Z",
     "iopub.status.idle": "2024-04-24T05:04:16.551897Z",
     "shell.execute_reply": "2024-04-24T05:04:16.551740Z",
     "shell.execute_reply.started": "2024-04-24T05:04:16.551725Z"
    }
   },
   "outputs": [],
   "source": [
    "def predict_single_text(text, tokenizer, model):\n",
    "    inputs = tokenizer(text, padding=True, truncation=True, return_tensors=\"pt\")\n",
    "    encoding = tokenizer(text, return_tensors='pt', max_length=max_length, padding='max_length', truncation=True)\n",
    "    input_ids = encoding['input_ids']\n",
    "    attention_mask = encoding['attention_mask']\n",
    "\n",
    "    with torch.no_grad():\n",
    "        outputs = model(input_ids=input_ids, attention_mask=attention_mask)\n",
    "        _, preds = torch.max(outputs, dim=1)\n",
    "\n",
    "    return classes[preds.item()]\n",
    "\n",
    "# Example usage\n",
    "text = \"@MelissaRyan Look at what DC Public Schools are doing for bullying LGBT students now that @m_rhee is...\"\n",
    "prediction = predict_single_text(text, load_tokenizer, loaded_model)\n",
    "print(prediction)"
   ]
  }
 ],
 "metadata": {
  "kaggle": {
   "accelerator": "nvidiaTeslaT4",
   "dataSources": [
    {
     "datasetId": 4823409,
     "sourceId": 8154544,
     "sourceType": "datasetVersion"
    }
   ],
   "isGpuEnabled": true,
   "isInternetEnabled": true,
   "language": "python",
   "sourceType": "notebook"
  },
  "kernelspec": {
   "display_name": "Python 3 (ipykernel)",
   "language": "python",
   "name": "python3"
  },
  "language_info": {
   "codemirror_mode": {
    "name": "ipython",
    "version": 3
   },
   "file_extension": ".py",
   "mimetype": "text/x-python",
   "name": "python",
   "nbconvert_exporter": "python",
   "pygments_lexer": "ipython3",
   "version": "3.11.5"
  }
 },
 "nbformat": 4,
 "nbformat_minor": 4
}
