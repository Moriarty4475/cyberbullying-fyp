{
 "cells": [
  {
   "cell_type": "code",
   "execution_count": 5,
   "metadata": {},
   "outputs": [],
   "source": [
    "import genai\n",
    "import os\n",
    "from PIL import Image\n",
    "import streamlit as st\n",
    "from dotenv import load_dotenv\n"
   ]
  },
  {
   "cell_type": "code",
   "execution_count": 3,
   "metadata": {},
   "outputs": [],
   "source": [
    "safety_settings = [\n",
    "    {\n",
    "        \"category\": \"HARM_CATEGORY_DANGEROUS\",\n",
    "        \"threshold\": \"BLOCK_NONE\",\n",
    "    },\n",
    "    {\n",
    "        \"category\": \"HARM_CATEGORY_HARASSMENT\",\n",
    "        \"threshold\": \"BLOCK_NONE\",\n",
    "    },\n",
    "    {\n",
    "        \"category\": \"HARM_CATEGORY_HATE_SPEECH\",\n",
    "        \"threshold\": \"BLOCK_NONE\",\n",
    "    },\n",
    "    {\n",
    "        \"category\": \"HARM_CATEGORY_SEXUALLY_EXPLICIT\",\n",
    "        \"threshold\": \"BLOCK_NONE\",\n",
    "    },\n",
    "    {\n",
    "        \"category\": \"HARM_CATEGORY_DANGEROUS_CONTENT\",\n",
    "        \"threshold\": \"BLOCK_NONE\",\n",
    "    },\n",
    "]"
   ]
  },
  {
   "cell_type": "code",
   "execution_count": 12,
   "metadata": {},
   "outputs": [],
   "source": [
    "load_dotenv()\n",
    "\n",
    "def get_text_from_image(image_path):\n",
    "    try:\n",
    "        API_KEY = os.getenv('API_KEY')\n",
    "        genai.configure(api_key=API_KEY)\n",
    "        \n",
    "        try:\n",
    "            image = Image.open(image_path)\n",
    "        except Exception as e:\n",
    "            print(f\"Error opening image: {e}\")\n",
    "            return None\n",
    "        \n",
    "        model = genai.GenerativeModel(\"gemini-pro-vision\")\n",
    "        response = model.generate_content(\n",
    "            [\n",
    "                \"Please analyze the text in the provided image and provide the corresponding text. If no text is present, generate a description of the image.\",\n",
    "                image,\n",
    "            ],\n",
    "            safety_settings=safety_settings,  # Assuming this is defined somewhere\n",
    "        )\n",
    "        return response.text\n",
    "    except Exception as e:\n",
    "        print(f\"Error getting text from image: {e}\")\n",
    "        return None\n",
    "\n"
   ]
  },
  {
   "cell_type": "code",
   "execution_count": 13,
   "metadata": {},
   "outputs": [
    {
     "name": "stdout",
     "output_type": "stream",
     "text": [
      "Error getting text from image: module 'genai' has no attribute 'configure'\n"
     ]
    }
   ],
   "source": [
    "\n",
    "image_path = 'covid_memes_10.png' \n",
    "result = get_text_from_image(image_path)\n",
    "if result:\n",
    "    print(result)"
   ]
  }
 ],
 "metadata": {
  "kernelspec": {
   "display_name": "Python 3",
   "language": "python",
   "name": "python3"
  },
  "language_info": {
   "codemirror_mode": {
    "name": "ipython",
    "version": 3
   },
   "file_extension": ".py",
   "mimetype": "text/x-python",
   "name": "python",
   "nbconvert_exporter": "python",
   "pygments_lexer": "ipython3",
   "version": "3.11.8"
  }
 },
 "nbformat": 4,
 "nbformat_minor": 2
}
